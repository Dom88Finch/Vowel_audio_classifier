{
 "cells": [
  {
   "cell_type": "code",
   "execution_count": 1,
   "id": "06f868ed-841a-4947-85b8-02e6b687e747",
   "metadata": {},
   "outputs": [],
   "source": [
    "# Import the packages we'll use\n",
    "import pandas as pd\n",
    "import numpy as np\n",
    "import os, glob, csv\n",
    "\n",
    "# librosa is a widely-used audio processing library\n",
    "import librosa\n",
    "\n",
    "import sklearn\n",
    "\n",
    "import torch\n",
    "import torch.nn as nn\n",
    "import torch.nn.functional as nnF\n",
    "\n",
    "# for plotting\n",
    "%matplotlib inline\n",
    "import matplotlib.pyplot as plt\n",
    "\n",
    "import math\n",
    "\n",
    "# for accuracy and confusion matrix\n",
    "from sklearn.metrics import accuracy_score\n",
    "from sklearn.metrics import confusion_matrix\n",
    "# for data normalization\n",
    "from sklearn.preprocessing import StandardScaler"
   ]
  },
  {
   "cell_type": "code",
   "execution_count": 2,
   "id": "12975726-8462-4e95-9d40-255ec3a5831f",
   "metadata": {},
   "outputs": [],
   "source": [
    "## Create csv file that contains different labels for our dataset\n",
    "\n",
    "## loading vowel = a\n",
    "audiofilefolder = os.path.expanduser(\"~/shared_storage/ECS7013P/data_by_vowel/\")\n",
    "maxfilestoload  = 100   "
   ]
  },
  {
   "cell_type": "code",
   "execution_count": 3,
   "id": "be50405d-49af-4746-9e56-27ee9c934c92",
   "metadata": {},
   "outputs": [],
   "source": [
    "audio_file_names = []\n",
    "\n",
    "all_vocals = ['a', 'e', 'i', 'o', 'u']\n",
    "for vocal in all_vocals:\n",
    "    ## loop through all the files in the audio for the different files.\n",
    "    for file in glob.glob(f\"{audiofilefolder}{vocal}/*.wav\"):\n",
    "        # print(file)\n",
    "        audio_file_names.append(vocal+'/' + str(file).split('/')[-1].split('.')[0])\n"
   ]
  },
  {
   "cell_type": "code",
   "execution_count": 4,
   "id": "70f0a1b4-f255-4865-9c68-d387eb590f8d",
   "metadata": {},
   "outputs": [],
   "source": [
    "# audio_file_names = []\n",
    "# for file in glob.glob(f\"{audiofilefolder}/b/*.wav\"):\n",
    "#         # print(file)\n",
    "#         audio_file_names.append(str(file).split('/')[-1])"
   ]
  },
  {
   "cell_type": "code",
   "execution_count": 5,
   "id": "c76b0a80-3ce7-4ebf-81e2-1dca15918778",
   "metadata": {},
   "outputs": [
    {
     "data": {
      "text/plain": [
       "3462"
      ]
     },
     "execution_count": 5,
     "metadata": {},
     "output_type": "execute_result"
    }
   ],
   "source": [
    "len(audio_file_names)"
   ]
  },
  {
   "cell_type": "code",
   "execution_count": 6,
   "id": "1da1bd44-f660-4cb7-a7e6-c91a01d8d67f",
   "metadata": {},
   "outputs": [
    {
     "data": {
      "text/plain": [
       "'a/f2_long_trill_a'"
      ]
     },
     "execution_count": 6,
     "metadata": {},
     "output_type": "execute_result"
    }
   ],
   "source": [
    "audio_file_names[0]"
   ]
  },
  {
   "cell_type": "code",
   "execution_count": null,
   "id": "235449de-4e65-451a-b21d-994611fbb921",
   "metadata": {},
   "outputs": [],
   "source": []
  },
  {
   "cell_type": "code",
   "execution_count": 7,
   "id": "808a18f5-b97c-4d71-b655-73f5721175fe",
   "metadata": {},
   "outputs": [],
   "source": [
    "df = pd.DataFrame()"
   ]
  },
  {
   "cell_type": "code",
   "execution_count": null,
   "id": "23cfbd68-659c-44b2-85f9-6f432b0f8ecc",
   "metadata": {},
   "outputs": [],
   "source": []
  },
  {
   "cell_type": "code",
   "execution_count": null,
   "id": "58a949b9-64a3-45db-935a-d3891af50c5e",
   "metadata": {},
   "outputs": [],
   "source": []
  },
  {
   "cell_type": "code",
   "execution_count": 8,
   "id": "034ca566-d9c5-4fae-9ddc-fa1ba99f79f4",
   "metadata": {},
   "outputs": [],
   "source": [
    "file_name_data = []\n",
    "vocal_label = []\n",
    "gender_label = []\n",
    "type_of_data_label = []\n",
    "\n",
    "for i in range(len(audio_file_names)):\n",
    "    ## File name\n",
    "    file_name_data.append(audio_file_names[i])\n",
    "    \n",
    "    ##Get the vocal label \n",
    "    vocal_label.append(str(audio_file_names[i].split('_')[-1].split('.')[0]))\n",
    "    \n",
    "    ##Get the gender of the individual \n",
    "    gender_label.append(audio_file_names[i].split('/')[1].split('_')[0][0])\n",
    "    \n",
    "    ## Get the type of 'arpeggios', 'excerpts', 'long_tones', 'scales'\n",
    "    type_of_data_label.append(audio_file_names[i].split('_')[1])\n",
    "    \n",
    "    \n",
    "    "
   ]
  },
  {
   "cell_type": "code",
   "execution_count": 9,
   "id": "1f05c8af-7fae-4fc2-802b-eddd152da8d4",
   "metadata": {},
   "outputs": [],
   "source": [
    "df['file_name_data'] = file_name_data\n",
    "df['vocal_label'] = vocal_label\n",
    "df['gender_label'] = gender_label\n",
    "df['type_of_data_label'] = type_of_data_label"
   ]
  },
  {
   "cell_type": "code",
   "execution_count": 10,
   "id": "a0114bbe-9e7b-48dd-8db2-fb142f3a1378",
   "metadata": {},
   "outputs": [],
   "source": [
    "# from sklearn.preprocessing import LabelEncoder\n",
    "# encoder = LabelEncoder()\n",
    "# df['gender_label_transformed']= encoder.fit_transform(df.gender_label.values)\n",
    "\n",
    "d = {'m': 0, 'f': 1}\n",
    "df['gender_label_transformed'] = df['gender_label'].map(d)\n",
    "\n",
    "vowel_map = {'a':0, \"e\":1,\"i\":2, \"o\":3,\"u\":4}\n",
    "\n",
    "df['vocal_label_mapped'] = df['vocal_label'].map(vowel_map)"
   ]
  },
  {
   "cell_type": "code",
   "execution_count": 11,
   "id": "a8d789af-a808-475c-9a65-c7dd6736c4b7",
   "metadata": {},
   "outputs": [
    {
     "data": {
      "text/html": [
       "<div>\n",
       "<style scoped>\n",
       "    .dataframe tbody tr th:only-of-type {\n",
       "        vertical-align: middle;\n",
       "    }\n",
       "\n",
       "    .dataframe tbody tr th {\n",
       "        vertical-align: top;\n",
       "    }\n",
       "\n",
       "    .dataframe thead th {\n",
       "        text-align: right;\n",
       "    }\n",
       "</style>\n",
       "<table border=\"1\" class=\"dataframe\">\n",
       "  <thead>\n",
       "    <tr style=\"text-align: right;\">\n",
       "      <th></th>\n",
       "      <th>file_name_data</th>\n",
       "      <th>vocal_label</th>\n",
       "      <th>gender_label</th>\n",
       "      <th>type_of_data_label</th>\n",
       "      <th>gender_label_transformed</th>\n",
       "      <th>vocal_label_mapped</th>\n",
       "    </tr>\n",
       "  </thead>\n",
       "  <tbody>\n",
       "    <tr>\n",
       "      <th>0</th>\n",
       "      <td>a/f2_long_trill_a</td>\n",
       "      <td>a</td>\n",
       "      <td>f</td>\n",
       "      <td>long</td>\n",
       "      <td>1.0</td>\n",
       "      <td>0</td>\n",
       "    </tr>\n",
       "    <tr>\n",
       "      <th>1</th>\n",
       "      <td>a/f3_arpeggios_c_slow_piano_a</td>\n",
       "      <td>a</td>\n",
       "      <td>f</td>\n",
       "      <td>arpeggios</td>\n",
       "      <td>1.0</td>\n",
       "      <td>0</td>\n",
       "    </tr>\n",
       "    <tr>\n",
       "      <th>2</th>\n",
       "      <td>a/m1_arpeggios_straight_a</td>\n",
       "      <td>a</td>\n",
       "      <td>m</td>\n",
       "      <td>arpeggios</td>\n",
       "      <td>0.0</td>\n",
       "      <td>0</td>\n",
       "    </tr>\n",
       "    <tr>\n",
       "      <th>3</th>\n",
       "      <td>a/f3_arpeggios_f_fast_forte_a</td>\n",
       "      <td>a</td>\n",
       "      <td>f</td>\n",
       "      <td>arpeggios</td>\n",
       "      <td>1.0</td>\n",
       "      <td>0</td>\n",
       "    </tr>\n",
       "    <tr>\n",
       "      <th>4</th>\n",
       "      <td>a/m7_arpeggios_c_slow_piano_a</td>\n",
       "      <td>a</td>\n",
       "      <td>m</td>\n",
       "      <td>arpeggios</td>\n",
       "      <td>0.0</td>\n",
       "      <td>0</td>\n",
       "    </tr>\n",
       "  </tbody>\n",
       "</table>\n",
       "</div>"
      ],
      "text/plain": [
       "                  file_name_data vocal_label gender_label type_of_data_label  \\\n",
       "0              a/f2_long_trill_a           a            f               long   \n",
       "1  a/f3_arpeggios_c_slow_piano_a           a            f          arpeggios   \n",
       "2      a/m1_arpeggios_straight_a           a            m          arpeggios   \n",
       "3  a/f3_arpeggios_f_fast_forte_a           a            f          arpeggios   \n",
       "4  a/m7_arpeggios_c_slow_piano_a           a            m          arpeggios   \n",
       "\n",
       "   gender_label_transformed  vocal_label_mapped  \n",
       "0                       1.0                   0  \n",
       "1                       1.0                   0  \n",
       "2                       0.0                   0  \n",
       "3                       1.0                   0  \n",
       "4                       0.0                   0  "
      ]
     },
     "execution_count": 11,
     "metadata": {},
     "output_type": "execute_result"
    }
   ],
   "source": [
    "df.head()"
   ]
  },
  {
   "cell_type": "code",
   "execution_count": 12,
   "id": "632e7ec7-41d5-42bd-9d5c-3c1d4d1762b3",
   "metadata": {},
   "outputs": [
    {
     "name": "stdout",
     "output_type": "stream",
     "text": [
      "<class 'pandas.core.frame.DataFrame'>\n",
      "RangeIndex: 3462 entries, 0 to 3461\n",
      "Data columns (total 6 columns):\n",
      " #   Column                    Non-Null Count  Dtype  \n",
      "---  ------                    --------------  -----  \n",
      " 0   file_name_data            3462 non-null   object \n",
      " 1   vocal_label               3462 non-null   object \n",
      " 2   gender_label              3462 non-null   object \n",
      " 3   type_of_data_label        3462 non-null   object \n",
      " 4   gender_label_transformed  3442 non-null   float64\n",
      " 5   vocal_label_mapped        3462 non-null   int64  \n",
      "dtypes: float64(1), int64(1), object(4)\n",
      "memory usage: 162.4+ KB\n"
     ]
    }
   ],
   "source": [
    "df.info()"
   ]
  },
  {
   "cell_type": "code",
   "execution_count": 13,
   "id": "9237c971-1e9c-44a9-a3e6-efacac9d2e57",
   "metadata": {},
   "outputs": [],
   "source": [
    "i = df[df['gender_label'] == 's'].index\n",
    "df = df.drop(i)"
   ]
  },
  {
   "cell_type": "code",
   "execution_count": 14,
   "id": "dc78c951-0a84-495e-829f-4ed86a5dab02",
   "metadata": {},
   "outputs": [],
   "source": [
    "j = df[df['gender_label'] == 'a'].index \n",
    "df = df.drop(j)"
   ]
  },
  {
   "cell_type": "code",
   "execution_count": 15,
   "id": "24375beb-9861-4161-a4a9-52c8d7552915",
   "metadata": {},
   "outputs": [
    {
     "data": {
      "text/plain": [
       "array(['f', 'm'], dtype=object)"
      ]
     },
     "execution_count": 15,
     "metadata": {},
     "output_type": "execute_result"
    }
   ],
   "source": [
    "df.gender_label.unique()"
   ]
  },
  {
   "cell_type": "code",
   "execution_count": 16,
   "id": "b574ff69-616a-41a4-b839-ae0c450af46c",
   "metadata": {},
   "outputs": [],
   "source": [
    "df.to_csv('vocal_dataset.csv')\n",
    "\n"
   ]
  },
  {
   "cell_type": "code",
   "execution_count": 24,
   "id": "a01d76e3-b3cf-42c7-8677-5591d0cedd67",
   "metadata": {},
   "outputs": [],
   "source": [
    "# df['itemid'] = audio_file_names\n",
    "# df['label']"
   ]
  },
  {
   "cell_type": "code",
   "execution_count": null,
   "id": "c6ce2cf1-7086-4f38-8b54-6ac2f6f306f0",
   "metadata": {},
   "outputs": [],
   "source": []
  },
  {
   "cell_type": "code",
   "execution_count": 25,
   "id": "ac31c712-74a9-493d-8273-e446457dcf0c",
   "metadata": {},
   "outputs": [],
   "source": [
    "## Load csv file and loop through to create our data and labels for given problem\n"
   ]
  },
  {
   "cell_type": "code",
   "execution_count": 26,
   "id": "4113061f-db9d-412b-9a24-cca4d5c699b5",
   "metadata": {},
   "outputs": [],
   "source": [
    "## Create mel spectograms for our dataset"
   ]
  },
  {
   "cell_type": "code",
   "execution_count": null,
   "id": "05ebdbed-aff2-4972-9861-32bd55cf8aac",
   "metadata": {},
   "outputs": [],
   "source": []
  },
  {
   "cell_type": "code",
   "execution_count": null,
   "id": "48e9f8e6-f0d6-49f1-a04f-3384a4678c78",
   "metadata": {},
   "outputs": [],
   "source": [
    "## Create our training, validation, test dataset "
   ]
  },
  {
   "cell_type": "code",
   "execution_count": null,
   "id": "7c475d3d-c28a-4607-9e78-465b18dc6594",
   "metadata": {},
   "outputs": [],
   "source": []
  },
  {
   "cell_type": "code",
   "execution_count": null,
   "id": "6cda735a-e149-499d-aaf4-d15a10658c8f",
   "metadata": {},
   "outputs": [],
   "source": []
  },
  {
   "cell_type": "code",
   "execution_count": null,
   "id": "ad513fc3-b045-4613-bf5a-5319d909a155",
   "metadata": {},
   "outputs": [],
   "source": []
  },
  {
   "cell_type": "code",
   "execution_count": null,
   "id": "7683b70d-deac-4124-a6b8-bbf66b5dfe4f",
   "metadata": {},
   "outputs": [],
   "source": [
    "## Create CNN model "
   ]
  },
  {
   "cell_type": "code",
   "execution_count": null,
   "id": "174d1659-f91d-4011-8447-607b4b68dbfd",
   "metadata": {},
   "outputs": [],
   "source": []
  },
  {
   "cell_type": "code",
   "execution_count": null,
   "id": "1f75b198-7c93-4f5d-b540-2eaca3ebfd0b",
   "metadata": {},
   "outputs": [],
   "source": [
    "## Create VGG model and train last layer for classification "
   ]
  },
  {
   "cell_type": "code",
   "execution_count": null,
   "id": "ffaad02a-8a13-4271-a29c-fbf7345fd8d4",
   "metadata": {},
   "outputs": [],
   "source": []
  },
  {
   "cell_type": "code",
   "execution_count": null,
   "id": "4642bd20-04df-4357-b589-570cf476bf6b",
   "metadata": {},
   "outputs": [],
   "source": [
    "## Define loss for multi-class classification "
   ]
  },
  {
   "cell_type": "code",
   "execution_count": null,
   "id": "203490e0-1400-431c-b94b-e73670581f75",
   "metadata": {},
   "outputs": [],
   "source": []
  },
  {
   "cell_type": "code",
   "execution_count": null,
   "id": "dc4b9861-f077-43ea-b4fc-9803833edb0d",
   "metadata": {},
   "outputs": [],
   "source": [
    "## Train our model "
   ]
  },
  {
   "cell_type": "code",
   "execution_count": null,
   "id": "fa3a1aef-5632-4eee-9e51-2f0c1cf38e68",
   "metadata": {},
   "outputs": [],
   "source": []
  }
 ],
 "metadata": {
  "kernelspec": {
   "display_name": "Python 3 (ipykernel)",
   "language": "python",
   "name": "python3"
  },
  "language_info": {
   "codemirror_mode": {
    "name": "ipython",
    "version": 3
   },
   "file_extension": ".py",
   "mimetype": "text/x-python",
   "name": "python",
   "nbconvert_exporter": "python",
   "pygments_lexer": "ipython3",
   "version": "3.9.7"
  }
 },
 "nbformat": 4,
 "nbformat_minor": 5
}
